{
  "nbformat": 4,
  "nbformat_minor": 0,
  "metadata": {
    "colab": {
      "name": "ChatBot - Day 1.ipynb",
      "provenance": [],
      "include_colab_link": true
    },
    "kernelspec": {
      "name": "python3",
      "display_name": "Python 3"
    },
    "language_info": {
      "name": "python"
    }
  },
  "cells": [
    {
      "cell_type": "markdown",
      "metadata": {
        "id": "view-in-github",
        "colab_type": "text"
      },
      "source": [
        "<a href=\"https://colab.research.google.com/github/Alex4reva/drawio-desktop/blob/better-separation/ChatBot_Day_1.ipynb\" target=\"_parent\"><img src=\"https://colab.research.google.com/assets/colab-badge.svg\" alt=\"Open In Colab\"/></a>"
      ]
    },
    {
      "cell_type": "code",
      "source": [
        "import random"
      ],
      "metadata": {
        "id": "pE8jTkT3bYn0"
      },
      "execution_count": null,
      "outputs": []
    },
    {
      "cell_type": "code",
      "source": [
        "BOT_CONFIG = {\n",
        "    'intents': {\n",
        "        'hello': {\n",
        "            'examples': ['привет!', 'хай!!', 'прив'],\n",
        "            'responses': ['здравствуйте', 'хэллоу!', 'хей!!1']\n",
        "        },\n",
        "        'bye': {\n",
        "            'examples': ['пока!', 'покеда!!', 'до свиданья'],\n",
        "            'responses': ['увидимся))', 'до связи', 'Сайонара']\n",
        "        }\n",
        "    }\n",
        "}"
      ],
      "metadata": {
        "id": "gWVgDP1sSY84"
      },
      "execution_count": null,
      "outputs": []
    },
    {
      "cell_type": "code",
      "source": [
        "def clean(text):\n",
        "  clean_text = ''\n",
        "  for ch in text.lower():\n",
        "    if ch in 'абвгдеёжзийклмнопрстуфхцчшщъыьэюя':\n",
        "      clean_text = clean_text + ch\n",
        "  return clean_text\n",
        "\n",
        "def get_intent(text):\n",
        "  for intent in BOT_CONFIG['intents'].keys():\n",
        "    for example in BOT_CONFIG['intents'][intent]['examples']:\n",
        "      if clean(example) == clean(text):\n",
        "        return intent\n",
        "  return 'интент не найден'\n",
        "\n",
        "def bot(input_text):\n",
        "  intent = get_intent(input_text)\n",
        "  if intent != 'интент не найден':\n",
        "    return random.choice(BOT_CONFIG['intents'][intent]['responses'])\n",
        "  else:\n",
        "    return 'интент не найден'"
      ],
      "metadata": {
        "id": "V413ihNiZA-f"
      },
      "execution_count": null,
      "outputs": []
    },
    {
      "cell_type": "code",
      "source": [
        "input_text = ''\n",
        "while input_text != 'stop':\n",
        "  input_text = input()\n",
        "  if input_text != 'stop':\n",
        "    response = bot(input_text)\n",
        "    print(response)"
      ],
      "metadata": {
        "colab": {
          "base_uri": "https://localhost:8080/"
        },
        "id": "giN0MoZ2Z6o6",
        "outputId": "b71db63d-db9c-4bce-e8fa-300d56ba19ad"
      },
      "execution_count": null,
      "outputs": [
        {
          "name": "stdout",
          "output_type": "stream",
          "text": [
            "превет\n",
            "интент не найден\n",
            "привет\n",
            "хей!!1\n",
            "привеД\n",
            "интент не найден\n",
            "stop\n"
          ]
        }
      ]
    },
    {
      "cell_type": "code",
      "source": [
        "s1 = 'привет'\n",
        "s2 = 'превед'\n",
        "\n"
      ],
      "metadata": {
        "id": "PpZB_Q-cc7wt"
      },
      "execution_count": null,
      "outputs": []
    }
  ]
}