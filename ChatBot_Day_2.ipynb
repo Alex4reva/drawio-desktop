{
  "nbformat": 4,
  "nbformat_minor": 0,
  "metadata": {
    "colab": {
      "name": "ChatBot - Day 2.ipynb",
      "provenance": [],
      "include_colab_link": true
    },
    "kernelspec": {
      "name": "python3",
      "display_name": "Python 3"
    },
    "language_info": {
      "name": "python"
    }
  },
  "cells": [
    {
      "cell_type": "markdown",
      "metadata": {
        "id": "view-in-github",
        "colab_type": "text"
      },
      "source": [
        "<a href=\"https://colab.research.google.com/github/Alex4reva/drawio-desktop/blob/better-separation/ChatBot_Day_2.ipynb\" target=\"_parent\"><img src=\"https://colab.research.google.com/assets/colab-badge.svg\" alt=\"Open In Colab\"/></a>"
      ]
    },
    {
      "cell_type": "code",
      "source": [
        "import random\n",
        "import nltk\n",
        "import json\n",
        "from sklearn.feature_extraction.text import CountVectorizer, TfidfVectorizer\n",
        "from sklearn.datasets import load_iris\n",
        "from sklearn.linear_model import LogisticRegression\n",
        "from sklearn.ensemble import RandomForestClassifier\n",
        "from sklearn.model_selection import train_test_split"
      ],
      "metadata": {
        "id": "pE8jTkT3bYn0"
      },
      "execution_count": null,
      "outputs": []
    },
    {
      "cell_type": "code",
      "source": [
        "# BOT_CONFIG = {\n",
        "#     'intents': {\n",
        "#         'hello': {\n",
        "#             'examples': ['привет!', 'хай!!', 'прив'],\n",
        "#             'responses': ['здравствуйте', 'хэллоу!', 'хей!!1']\n",
        "#         },\n",
        "#         'bye': {\n",
        "#             'examples': ['пока!', 'покеда!!', 'до свиданья'],\n",
        "#             'responses': ['увидимся))', 'до связи', 'Сайонара']\n",
        "#         }\n",
        "#     }\n",
        "# }"
      ],
      "metadata": {
        "id": "gWVgDP1sSY84"
      },
      "execution_count": null,
      "outputs": []
    },
    {
      "cell_type": "code",
      "source": [
        "def clean(text):\n",
        "  clean_text = ''\n",
        "  for ch in text.lower():\n",
        "    if ch in 'абвгдеёжзийклмнопрстуфхцчшщъыьэюя ':\n",
        "      clean_text = clean_text + ch\n",
        "  return clean_text"
      ],
      "metadata": {
        "id": "RtpUwTMkg_7f"
      },
      "execution_count": null,
      "outputs": []
    },
    {
      "cell_type": "code",
      "source": [
        "with open('/content/BOT_CONFIG.json') as f:\n",
        "  BOT_CONFIG = json.load(f)\n",
        "del BOT_CONFIG['intents']['price']\n",
        "len(BOT_CONFIG['intents'].keys())"
      ],
      "metadata": {
        "colab": {
          "base_uri": "https://localhost:8080/"
        },
        "id": "VpBTWATcWF6R",
        "outputId": "ba495d26-eef3-43aa-8bf2-f924ff1ba609"
      },
      "execution_count": null,
      "outputs": [
        {
          "output_type": "execute_result",
          "data": {
            "text/plain": [
              "299"
            ]
          },
          "metadata": {},
          "execution_count": 29
        }
      ]
    },
    {
      "cell_type": "code",
      "source": [
        "texts = []\n",
        "y = []\n",
        "for intent in BOT_CONFIG['intents'].keys():\n",
        "  for example in BOT_CONFIG['intents'][intent]['examples']:\n",
        "    texts.append(example)\n",
        "    y.append(intent)\n",
        "len(texts), len(y)"
      ],
      "metadata": {
        "colab": {
          "base_uri": "https://localhost:8080/"
        },
        "id": "BlnJzx01W5Tz",
        "outputId": "9c36cbf3-e383-4569-a549-4a92c4e18714"
      },
      "execution_count": null,
      "outputs": [
        {
          "output_type": "execute_result",
          "data": {
            "text/plain": [
              "(1173, 1173)"
            ]
          },
          "metadata": {},
          "execution_count": 60
        }
      ]
    },
    {
      "cell_type": "code",
      "source": [
        "train_texts, test_texts, y_train, y_test = train_test_split(texts, y, random_state=42, test_size=0.2)"
      ],
      "metadata": {
        "id": "7InxFQIobbDm"
      },
      "execution_count": null,
      "outputs": []
    },
    {
      "cell_type": "code",
      "source": [
        "vectorizer = CountVectorizer(ngram_range=(1,3), analyzer='char_wb') #TfidfVectorizer(ngram_range=(1,5), analyzer='char_wb')\n",
        "X_train = vectorizer.fit_transform(train_texts)\n",
        "X_test = vectorizer.transform(test_texts)"
      ],
      "metadata": {
        "id": "20Yn6tazXdv6"
      },
      "execution_count": null,
      "outputs": []
    },
    {
      "cell_type": "code",
      "source": [
        "vocab = vectorizer.get_feature_names_out()\n",
        "len(vocab)"
      ],
      "metadata": {
        "colab": {
          "base_uri": "https://localhost:8080/"
        },
        "id": "qLlE7h7vXdss",
        "outputId": "89bb0557-76e7-452b-a7ba-45d61e69c838"
      },
      "execution_count": null,
      "outputs": [
        {
          "output_type": "execute_result",
          "data": {
            "text/plain": [
              "3051"
            ]
          },
          "metadata": {},
          "execution_count": 106
        }
      ]
    },
    {
      "cell_type": "code",
      "source": [
        "clf = RandomForestClassifier(n_estimators=300).fit(X_train, y_train) #LogisticRegression().fit(X_train, y_train)\n",
        "clf.score(X_train, y_train), clf.score(X_test, y_test) #LogisticRegression: 0.14893617021276595, RandomForestClassifier: 0.19574468085106383"
      ],
      "metadata": {
        "colab": {
          "base_uri": "https://localhost:8080/"
        },
        "id": "Buzokc7_YsYV",
        "outputId": "32e4c2f5-364f-44aa-836e-2799a43e518e"
      },
      "execution_count": null,
      "outputs": [
        {
          "output_type": "execute_result",
          "data": {
            "text/plain": [
              "(0.8646055437100213, 0.19574468085106383)"
            ]
          },
          "metadata": {},
          "execution_count": 110
        }
      ]
    },
    {
      "cell_type": "code",
      "source": [
        "# clf.predict(vectorizer.transform(['привет!']))"
      ],
      "metadata": {
        "id": "kLubwTWAYsVG"
      },
      "execution_count": null,
      "outputs": []
    },
    {
      "cell_type": "markdown",
      "source": [
        "# Название раздела"
      ],
      "metadata": {
        "id": "GoTs5FtUaiYR"
      }
    },
    {
      "cell_type": "code",
      "source": [
        "# def get_intent(text):\n",
        "#   for intent in BOT_CONFIG['intents'].keys():\n",
        "#     for example in BOT_CONFIG['intents'][intent]['examples']:\n",
        "#       s1 = clean(text)\n",
        "#       s2 = clean(example)\n",
        "#       if nltk.edit_distance(s1, s2) / max(len(s1), len(s2)) < 0.4:\n",
        "#         return intent\n",
        "#   return 'интент не найден'\n",
        "\n",
        "def get_intent_by_model(text):\n",
        "  return clf.predict(vectorizer.transform([text]))[0]\n",
        "\n",
        "def bot(input_text):\n",
        "  intent = get_intent_by_model(input_text)\n",
        "  return random.choice(BOT_CONFIG['intents'][intent]['responses'])"
      ],
      "metadata": {
        "id": "V413ihNiZA-f"
      },
      "execution_count": null,
      "outputs": []
    },
    {
      "cell_type": "code",
      "source": [
        "input_text = ''\n",
        "while input_text != 'stop':\n",
        "  input_text = input()\n",
        "  if input_text != 'stop':\n",
        "    response = bot(input_text)\n",
        "    print(response)"
      ],
      "metadata": {
        "colab": {
          "base_uri": "https://localhost:8080/"
        },
        "id": "giN0MoZ2Z6o6",
        "outputId": "13abc812-8a59-476f-c106-7344e4aa65d8"
      },
      "execution_count": null,
      "outputs": [
        {
          "name": "stdout",
          "output_type": "stream",
          "text": [
            "привет!\n",
            "хэллоу!\n",
            "покеда\n",
            "сайонара\n",
            "stop\n"
          ]
        }
      ]
    },
    {
      "cell_type": "code",
      "source": [
        ""
      ],
      "metadata": {
        "id": "kXZTcE3qgRFN"
      },
      "execution_count": null,
      "outputs": []
    }
  ]
}